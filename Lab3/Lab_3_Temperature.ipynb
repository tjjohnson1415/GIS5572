{
 "cells": [
  {
   "cell_type": "code",
   "execution_count": 22,
   "metadata": {},
   "outputs": [],
   "source": [
    "from sqlalchemy import create_engine\n",
    "import psycopg2\n",
    "import arcpy\n",
    "import pandas as pd\n",
    "import random\n",
    "import numpy as np\n",
    "import json"
   ]
  },
  {
   "cell_type": "code",
   "execution_count": 23,
   "metadata": {},
   "outputs": [],
   "source": [
    "temp_csv_path = r'C:\\Users\\tjjoh\\OneDrive\\Desktop\\GIS 5572\\Lab3\\temperature.csv'\n",
    "\n",
    "stem_path = r'C:\\Users\\tjjoh\\Documents\\GIS5572'\n",
    "gdb_name = r'Lab3GDB'\n",
    "gdb_path = stem_path + r'/' + gdb_name + '.gdb'"
   ]
  },
  {
   "cell_type": "code",
   "execution_count": 24,
   "metadata": {},
   "outputs": [],
   "source": [
    "#create database connection\n",
    "connection_string = f'postgresql://<user>:<password>@34.133.43.30:5432/lab2'\n",
    "engine = create_engine(connection_string)\n",
    "\n",
    "#retrieve the data from PostGIS\n",
    "table_name = \"mn_temperature\"\n",
    "query = f'SELECT *, ST_AsText(geometry) AS WKT_geom FROM {table_name};'\n",
    "\n",
    "df = pd.read_sql(query, engine) #read data with pandas\n",
    "df.to_csv(temp_csv_path, index = False) #save as csv"
   ]
  },
  {
   "cell_type": "code",
   "execution_count": 25,
   "metadata": {},
   "outputs": [],
   "source": [
    "#create a new file GDB if one doesn't exist\n",
    "try:\n",
    "    arcpy.management.CreateFileGDB(\n",
    "        out_folder_path = stem_path,\n",
    "        out_name = gdb_name,\n",
    "        out_version = 'CURRENT'\n",
    "    )\n",
    "except:\n",
    "    print('GDB already exists.')"
   ]
  },
  {
   "cell_type": "code",
   "execution_count": 26,
   "metadata": {},
   "outputs": [],
   "source": [
    "#set workspace\n",
    "arcpy.env.workspace = gdb_path\n",
    "\n",
    "#create a new feature class\n",
    "temperature = 'temperature'\n",
    "spatial_ref = arcpy.SpatialReference(4326)\n",
    "arcpy.management.CreateFeatureclass(gdb_path, temperature, 'POINT', spatial_reference = spatial_ref)\n",
    "\n",
    "#add a field for elevation to the feature class\n",
    "months = ['January', 'February', 'March', 'April', 'May', 'June', \n",
    "          'July', 'August', 'September', 'October', 'November', 'December']\n",
    "for month in months:\n",
    "    arcpy.management.AddField(temperature, f'{month}', 'DOUBLE')\n",
    "\n",
    "#iterate through the dataframe to populate ferature class\n",
    "cursor = arcpy.da.InsertCursor(temperature, ['SHAPE@', 'January', 'February', 'March', 'April', 'May', 'June', \n",
    "                                             'July', 'August', 'September', 'October', 'November', 'December'])\n",
    "for index, row in df.iterrows():\n",
    "    geometry = arcpy.FromWKT(row['wkt_geom'])  #convert WKT to geometry\n",
    "    cursor.insertRow([geometry, row['January'], row['February'], row['March'], row['April'], row['May'], row['June'],\n",
    "                      row['July'], row['August'], row['September'], row['October'], row['November'], row['December']])\n",
    "\n",
    "del cursor"
   ]
  },
  {
   "cell_type": "code",
   "execution_count": 27,
   "metadata": {},
   "outputs": [
    {
     "data": {
      "text/html": [
       "<div class='gpresult'><h2>Messages</h2><div id='messages' data-messages='[\"Start Time: Thursday, April 17, 2025 8:19:14 PM\",\"Succeeded at Thursday, April 17, 2025 8:19:14 PM (Elapsed Time: 0.30 seconds)\"]' data-show='true'><div id = 'default' /></div></div>"
      ],
      "text/plain": [
       "<Result 'C:\\\\Users\\\\tjjoh\\\\Documents\\\\GIS5572/Lab3GDB.gdb\\\\testing'>"
      ]
     },
     "execution_count": 27,
     "metadata": {},
     "output_type": "execute_result"
    }
   ],
   "source": [
    "#clear selection\n",
    "arcpy.management.SelectLayerByAttribute(temperature, \"CLEAR_SELECTION\")\n",
    "\n",
    "#create training and testing datasets\n",
    "training = 'training'\n",
    "testing = 'testing'\n",
    "\n",
    "#count features\n",
    "total_count = int(arcpy.GetCount_management(temperature)[0])\n",
    "\n",
    "#calculate 50% sample size\n",
    "sample_size = max(1, total_count // 2)  # Ensure at least one feature is selected\n",
    "\n",
    "#get all OBJECTIDs\n",
    "oids = [row[0] for row in arcpy.da.SearchCursor(temperature, [\"OID@\"])]\n",
    "\n",
    "#randomly select 50% of features\n",
    "random_oids = random.sample(oids, sample_size)\n",
    "\n",
    "#create selection query\n",
    "oid_query = f\"OBJECTID IN ({','.join(map(str, random_oids))})\"\n",
    "\n",
    "#select and export training data\n",
    "arcpy.management.SelectLayerByAttribute(temperature, \"NEW_SELECTION\", oid_query)\n",
    "arcpy.management.CopyFeatures(temperature, training)\n",
    "\n",
    "#create opposite selection query\n",
    "oid_query = f\"OBJECTID NOT IN ({','.join(map(str, random_oids))})\"\n",
    "\n",
    "#select and export testing data\n",
    "arcpy.management.SelectLayerByAttribute(temperature, \"NEW_SELECTION\", oid_query)\n",
    "arcpy.management.CopyFeatures(temperature, testing)"
   ]
  },
  {
   "cell_type": "code",
   "execution_count": 28,
   "metadata": {},
   "outputs": [],
   "source": [
    "#conduct spline interpolation on training data\n",
    "spline = arcpy.ddd.Spline(\n",
    "    in_point_features = training,\n",
    "    z_field = 'December',\n",
    "    out_raster = gdb_path + r'/Spline',\n",
    ")"
   ]
  },
  {
   "cell_type": "code",
   "execution_count": 29,
   "metadata": {},
   "outputs": [],
   "source": [
    "#conduct IDW interpolation on training data\n",
    "idw = arcpy.ddd.Idw(\n",
    "    in_point_features = training,\n",
    "    z_field = 'December',\n",
    "    out_raster = gdb_path + r'/IDW',\n",
    "    power = 2,\n",
    ")"
   ]
  },
  {
   "cell_type": "code",
   "execution_count": 30,
   "metadata": {},
   "outputs": [],
   "source": [
    "#conduct Ordinary Kriging on training data\n",
    "okriging = arcpy.ddd.Kriging(\n",
    "    in_point_features = training,\n",
    "    z_field = 'December',\n",
    "    out_surface_raster = gdb_path + r'/OKriging',\n",
    ")"
   ]
  },
  {
   "cell_type": "code",
   "execution_count": 31,
   "metadata": {},
   "outputs": [
    {
     "data": {
      "text/html": [
       "<div class='gpresult'><h2>Messages</h2><div id='messages' data-messages='[\"Start Time: Thursday, April 17, 2025 8:19:19 PM\",\"Succeeded at Thursday, April 17, 2025 8:19:19 PM (Elapsed Time: 0.42 seconds)\"]' data-show='true'><div id = 'default' /></div></div>"
      ],
      "text/plain": [
       "<geoprocessing server result object object at 0x000002121ACACFC0>"
      ]
     },
     "execution_count": 31,
     "metadata": {},
     "output_type": "execute_result"
    }
   ],
   "source": [
    "#extract the values of the interpolated rasters to the testing data points\n",
    "arcpy.sa.ExtractMultiValuesToPoints(\n",
    "    in_point_features = testing,\n",
    "    in_rasters = 'Spline Spline;IDW IDW;OKriging OKriging',\n",
    ")"
   ]
  },
  {
   "cell_type": "code",
   "execution_count": 32,
   "metadata": {},
   "outputs": [],
   "source": [
    "with arcpy.da.UpdateCursor(testing, ['IDW']) as cursor:\n",
    "    for row in cursor:\n",
    "        if row[0] is None:  # Check for null value\n",
    "            cursor.deleteRow()  # Remove feature"
   ]
  },
  {
   "cell_type": "code",
   "execution_count": 33,
   "metadata": {},
   "outputs": [],
   "source": [
    "methods = ['Spline', 'IDW', 'OKriging']\n",
    "\n",
    "#calculate error for each testing point for each method\n",
    "for method in methods:\n",
    "    arcpy.management.CalculateField(\n",
    "        in_table = testing,\n",
    "        field = f'error_{method}',\n",
    "        expression = f'!{method}! - !December!',\n",
    "        expression_type = 'PYTHON3',\n",
    "        field_type = 'FLOAT',\n",
    "    )"
   ]
  },
  {
   "cell_type": "code",
   "execution_count": 34,
   "metadata": {},
   "outputs": [],
   "source": [
    "#extract errors for each method as a list\n",
    "error_spline = [row[0] for row in arcpy.da.SearchCursor(testing, ['error_Spline'])]\n",
    "error_idw = [row[0] for row in arcpy.da.SearchCursor(testing, ['error_IDW'])]\n",
    "error_okrig = [row[0] for row in arcpy.da.SearchCursor(testing, ['error_OKriging'])]"
   ]
  },
  {
   "cell_type": "code",
   "execution_count": 35,
   "metadata": {},
   "outputs": [],
   "source": [
    "#calculate rmse, mae, and maxae for each method\n",
    "rmse = []\n",
    "mae = []\n",
    "maxae = []\n",
    "for error in [error_spline, error_idw, error_okrig]:\n",
    "    absolute_error = [abs(x) for x in error]\n",
    "    squared_error = [x ** 2 for x in error]\n",
    "    \n",
    "    rmse.append(np.sqrt(np.mean(squared_error)))\n",
    "    mae.append(np.mean(absolute_error))\n",
    "    maxae.append(np.max(absolute_error))"
   ]
  },
  {
   "cell_type": "code",
   "execution_count": 36,
   "metadata": {},
   "outputs": [],
   "source": [
    "#create a pandas dataframe for accuracy assessment\n",
    "accuracy_assessment = pd.DataFrame({'Interpolation Method': methods,\n",
    "                                   'Root Mean Squared Error': rmse,\n",
    "                                   'Mean Absolute Error': mae,\n",
    "                                   'Maximum Absolute Error': maxae\n",
    "                                   })"
   ]
  },
  {
   "cell_type": "code",
   "execution_count": 37,
   "metadata": {},
   "outputs": [
    {
     "data": {
      "text/html": [
       "<div>\n",
       "<style scoped>\n",
       "    .dataframe tbody tr th:only-of-type {\n",
       "        vertical-align: middle;\n",
       "    }\n",
       "\n",
       "    .dataframe tbody tr th {\n",
       "        vertical-align: top;\n",
       "    }\n",
       "\n",
       "    .dataframe thead th {\n",
       "        text-align: right;\n",
       "    }\n",
       "</style>\n",
       "<table border=\"1\" class=\"dataframe\">\n",
       "  <thead>\n",
       "    <tr style=\"text-align: right;\">\n",
       "      <th></th>\n",
       "      <th>Interpolation Method</th>\n",
       "      <th>Root Mean Squared Error</th>\n",
       "      <th>Mean Absolute Error</th>\n",
       "      <th>Maximum Absolute Error</th>\n",
       "    </tr>\n",
       "  </thead>\n",
       "  <tbody>\n",
       "    <tr>\n",
       "      <th>0</th>\n",
       "      <td>Spline</td>\n",
       "      <td>2.176991</td>\n",
       "      <td>1.641427</td>\n",
       "      <td>8.602092</td>\n",
       "    </tr>\n",
       "    <tr>\n",
       "      <th>1</th>\n",
       "      <td>IDW</td>\n",
       "      <td>1.179037</td>\n",
       "      <td>0.924770</td>\n",
       "      <td>3.671749</td>\n",
       "    </tr>\n",
       "    <tr>\n",
       "      <th>2</th>\n",
       "      <td>OKriging</td>\n",
       "      <td>1.157111</td>\n",
       "      <td>0.908470</td>\n",
       "      <td>3.447047</td>\n",
       "    </tr>\n",
       "  </tbody>\n",
       "</table>\n",
       "</div>"
      ],
      "text/plain": [
       "  Interpolation Method  ...  Maximum Absolute Error\n",
       "0               Spline  ...                8.602092\n",
       "1                  IDW  ...                3.671749\n",
       "2             OKriging  ...                3.447047\n",
       "\n",
       "[3 rows x 4 columns]"
      ]
     },
     "execution_count": 37,
     "metadata": {},
     "output_type": "execute_result"
    }
   ],
   "source": [
    "accuracy_assessment"
   ]
  },
  {
   "cell_type": "code",
   "execution_count": 38,
   "metadata": {},
   "outputs": [
    {
     "name": "stdout",
     "output_type": "stream",
     "text": [
      "DataFrame successfully pushed to the PostGIS table 'temperature_accuracy'.\n"
     ]
    }
   ],
   "source": [
    "# Push the DataFrame to PostGIS\n",
    "table_name = 'temperature_accuracy'\n",
    "accuracy_assessment.to_sql(table_name, engine, if_exists=\"replace\", index=False)\n",
    "\n",
    "print(f\"DataFrame successfully pushed to the PostGIS table '{table_name}'.\")"
   ]
  },
  {
   "cell_type": "code",
   "execution_count": 39,
   "metadata": {},
   "outputs": [
    {
     "data": {
      "text/html": [
       "<div class='gpresult'><h2>Messages</h2><div id='messages' data-messages='[\"Start Time: Thursday, April 17, 2025 8:19:24 PM\",\"Succeeded at Thursday, April 17, 2025 8:19:24 PM (Elapsed Time: 0.09 seconds)\"]' data-show='true'><div id = 'default' /></div></div>"
      ],
      "text/plain": [
       "<Result 'C:\\\\Users\\\\tjjoh\\\\Documents\\\\GIS5572\\\\Lab3\\\\testing_points.geojson'>"
      ]
     },
     "execution_count": 39,
     "metadata": {},
     "output_type": "execute_result"
    }
   ],
   "source": [
    "testing_geojson = stem_path + r'\\Lab3\\testing_points.geojson'\n",
    "\n",
    "arcpy.conversion.FeaturesToJSON(\n",
    "    in_features = testing,\n",
    "    out_json_file = testing_geojson,\n",
    "    geoJSON = 'GEOJSON'\n",
    ")"
   ]
  },
  {
   "cell_type": "code",
   "execution_count": 40,
   "metadata": {},
   "outputs": [],
   "source": [
    "with open(testing_geojson, \"r\") as f:\n",
    "    geojson_data = json.load(f)"
   ]
  },
  {
   "cell_type": "code",
   "execution_count": 41,
   "metadata": {},
   "outputs": [
    {
     "data": {
      "text/plain": [
       "{'type': 'Feature', 'id': 1, 'geometry': {'type': 'Point', 'coordinates': [-95.98159999999996, 48.300500000000056]}, 'properties': {'OBJECTID': 1, 'January': 5.9, 'February': 11.7, 'March': 25.7, 'April': 42.9, 'May': 56.3, 'June': 65.3, 'July': 69.9, 'August': 67.9, 'September': 58, 'October': 44, 'November': 26.6, 'December': 10.8, 'Spline': 10.690032, 'IDW': 10.7599697, 'OKriging': 10.5148058, 'error_Spline': -0.109967992, 'error_IDW': -0.0400302894, 'error_OKriging': -0.285194218}}"
      ]
     },
     "execution_count": 41,
     "metadata": {},
     "output_type": "execute_result"
    }
   ],
   "source": [
    "geojson_data['features'][0]"
   ]
  },
  {
   "cell_type": "code",
   "execution_count": 42,
   "metadata": {},
   "outputs": [],
   "source": [
    "table_name = 'temperature_testing'\n",
    "conn = engine.connect()\n",
    "conn.execute(f\"DROP TABLE IF EXISTS {table_name};\")\n",
    "conn.execute(f\"\"\"\n",
    "    CREATE TABLE {table_name} (\n",
    "        id SERIAL PRIMARY KEY,\n",
    "        geom GEOMETRY,\n",
    "        attributes JSONB\n",
    "    );\n",
    "\"\"\")\n",
    "\n",
    "i = 0\n",
    "for feature in geojson_data[\"features\"]:\n",
    "    if i < 2000:\n",
    "        geom = json.dumps(feature[\"geometry\"])  # Convert geometry to JSON\n",
    "        properties = feature[\"properties\"]  # Extract attributes\n",
    "\n",
    "        insert_query = f\"\"\"\n",
    "            INSERT INTO {table_name} (geom, attributes)\n",
    "            VALUES (ST_GeomFromGeoJSON('{geom}'), '{json.dumps(properties)}')\n",
    "        \"\"\"\n",
    "        conn.execute(insert_query)\n",
    "        \n",
    "        i += 1\n",
    "        \n",
    "    else:\n",
    "        break"
   ]
  },
  {
   "cell_type": "code",
   "execution_count": null,
   "metadata": {},
   "outputs": [],
   "source": []
  }
 ],
 "metadata": {
  "kernelspec": {
   "display_name": "ArcGISPro",
   "language": "Python",
   "name": "python3"
  },
  "language_info": {
   "file_extension": ".py",
   "name": "python",
   "version": "3"
  }
 },
 "nbformat": 4,
 "nbformat_minor": 2
}
