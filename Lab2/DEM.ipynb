{
 "cells": [
  {
   "cell_type": "code",
   "execution_count": 1,
   "id": "2ed65b49-0723-4d8a-a335-669837990f23",
   "metadata": {},
   "outputs": [],
   "source": [
    "import requests\n",
    "import rasterio\n",
    "from rasterio.enums import Resampling\n",
    "import geopandas as gpd\n",
    "from shapely.geometry import Point\n",
    "from sqlalchemy import create_engine\n",
    "import psycopg2"
   ]
  },
  {
   "cell_type": "code",
   "execution_count": 2,
   "id": "33618d03-f02e-4475-b60d-866cc165790d",
   "metadata": {},
   "outputs": [],
   "source": [
    "usgs_tiffs_url = r'https://tnmaccess.nationalmap.gov/api/v1/products?prodFormats=GeoTIFF&prodExtents=1%20x%201%20degree&datasets=National%20Elevation%20Dataset%20(NED)%201%20arc-second%20Current&polyType=state&polyCode=27&&offset=0&max=1000'"
   ]
  },
  {
   "cell_type": "code",
   "execution_count": 3,
   "id": "dafe9f9a-1513-4185-b273-f2b713f2da53",
   "metadata": {},
   "outputs": [],
   "source": [
    "response = requests.get(usgs_tiffs_url)"
   ]
  },
  {
   "cell_type": "code",
   "execution_count": 4,
   "id": "45dfaf10-a466-4e40-ac6c-745063e4ead4",
   "metadata": {},
   "outputs": [],
   "source": [
    "urls = []\n",
    "for i in range(len(response.json()['items'])):\n",
    "    url = response.json()['items'][i]['urls']['TIFF']\n",
    "    urls.extend([url])"
   ]
  },
  {
   "cell_type": "code",
   "execution_count": 5,
   "id": "6a9c4c56-2f8d-40b3-b256-42da272de9da",
   "metadata": {},
   "outputs": [
    {
     "name": "stdout",
     "output_type": "stream",
     "text": [
      "Iteration 1/45 complete\n",
      "Iteration 2/45 complete\n",
      "Iteration 3/45 complete\n",
      "Iteration 4/45 complete\n",
      "Iteration 5/45 complete\n",
      "Iteration 6/45 complete\n",
      "Iteration 7/45 complete\n",
      "Iteration 8/45 complete\n",
      "Iteration 9/45 complete\n",
      "Iteration 10/45 complete\n",
      "Iteration 11/45 complete\n",
      "Iteration 12/45 complete\n",
      "Iteration 13/45 complete\n",
      "Iteration 14/45 complete\n",
      "Iteration 15/45 complete\n",
      "Iteration 16/45 complete\n",
      "Iteration 17/45 complete\n",
      "Iteration 18/45 complete\n",
      "Iteration 19/45 complete\n",
      "Iteration 20/45 complete\n",
      "Iteration 21/45 complete\n",
      "Iteration 22/45 complete\n",
      "Iteration 23/45 complete\n",
      "Iteration 24/45 complete\n",
      "Iteration 25/45 complete\n",
      "Iteration 26/45 complete\n",
      "Iteration 27/45 complete\n",
      "Iteration 28/45 complete\n",
      "Iteration 29/45 complete\n",
      "Iteration 30/45 complete\n",
      "Iteration 31/45 complete\n",
      "Iteration 32/45 complete\n",
      "Iteration 33/45 complete\n",
      "Iteration 34/45 complete\n",
      "Iteration 35/45 complete\n",
      "Iteration 36/45 complete\n",
      "Iteration 37/45 complete\n",
      "Iteration 38/45 complete\n",
      "Iteration 39/45 complete\n",
      "Iteration 40/45 complete\n",
      "Iteration 41/45 complete\n",
      "Iteration 42/45 complete\n",
      "Iteration 43/45 complete\n",
      "Iteration 44/45 complete\n",
      "Iteration 45/45 complete\n"
     ]
    }
   ],
   "source": [
    "# Define the target resolution in decimal degrees (approximately 0.008983° for ~1 km)\n",
    "target_resolution = 0.008983\n",
    "data = []\n",
    "\n",
    "for i in range(len(urls)):\n",
    "    with rasterio.open(urls[i]) as src:\n",
    "        # Get original resolutions (pixel size) in decimal degrees\n",
    "        original_resolution_x = src.transform[0]\n",
    "        original_resolution_y = -src.transform[4]\n",
    "\n",
    "        # Calculate scaling factors\n",
    "        scale_x = target_resolution / original_resolution_x\n",
    "        scale_y = target_resolution / original_resolution_y\n",
    "\n",
    "        # Calculate new dimensions\n",
    "        width = int(src.width / scale_x)\n",
    "        height = int(src.height / scale_y)\n",
    "\n",
    "        # Update the transform for the new resolution\n",
    "        new_transform = src.transform * src.transform.scale(\n",
    "            (src.width / width),\n",
    "            (src.height / height)\n",
    "        )\n",
    "\n",
    "        # Perform resampling\n",
    "        resampled_data = src.read(\n",
    "            1,\n",
    "            out_shape=(height, width),\n",
    "            resampling=Resampling.average\n",
    "        )\n",
    "        crs = src.crs  # Preserve CRS\n",
    "\n",
    "    for j in range(resampled_data.shape[0]):\n",
    "        for k in range(resampled_data.shape[1]):\n",
    "            value = resampled_data[j, k]\n",
    "            x, y = rasterio.transform.xy(new_transform, j, k)\n",
    "            data.append({\"elevation\": value, \"geometry\": Point(x, y)})\n",
    "\n",
    "    print(f'Iteration {i + 1}/{len(urls)} complete')"
   ]
  },
  {
   "cell_type": "code",
   "execution_count": 6,
   "id": "a6920ef4-aea5-4de7-afbe-8c6ae1e6ac4f",
   "metadata": {},
   "outputs": [],
   "source": [
    "elevation = gpd.GeoDataFrame(data, crs = crs)\n",
    "elevation = elevation.to_crs('EPSG:4326')"
   ]
  },
  {
   "cell_type": "code",
   "execution_count": 7,
   "id": "1c3322d1-daf7-4d6c-b8f7-606c62920db0",
   "metadata": {},
   "outputs": [
    {
     "name": "stdout",
     "output_type": "stream",
     "text": [
      "Invalid points:\n",
      "         elevation                    geometry\n",
      "381951  463.886688  POINT (-97.99715 47.99715)\n",
      "381952  463.746399  POINT (-97.98811 47.99715)\n",
      "381953  462.970276  POINT (-97.97907 47.99715)\n",
      "381954  463.401581  POINT (-97.97003 47.99715)\n",
      "381955  463.416046  POINT (-97.96099 47.99715)\n",
      "...            ...                         ...\n",
      "548224  323.546265  POINT (-96.03901 49.50904)\n",
      "548225  324.477081  POINT (-96.02997 49.50904)\n",
      "548226  324.287720  POINT (-96.02093 49.50904)\n",
      "548227  323.319092  POINT (-96.01189 49.50904)\n",
      "548228  322.670898  POINT (-96.00285 49.50904)\n",
      "\n",
      "[40265 rows x 2 columns]\n"
     ]
    }
   ],
   "source": [
    "min_latitude = 43\n",
    "max_latitude = 49.5\n",
    "min_longitude = -97.5\n",
    "max_longitude = -89\n",
    "\n",
    "invalid_geom = elevation[(elevation['geometry'].y < min_latitude) |\n",
    "                         (elevation['geometry'].y > max_latitude) |\n",
    "                         (elevation['geometry'].x < min_longitude) |\n",
    "                         (elevation['geometry'].x > max_longitude)]\n",
    "\n",
    "if invalid_geom.empty:\n",
    "    print('All geometry is valid')\n",
    "else:\n",
    "    print('Invalid points:')\n",
    "    print(invalid_geom)\n",
    "    elevation = elevation[(elevation['geometry'].y >= min_latitude) &\n",
    "                          (elevation['geometry'].y <= max_latitude) &\n",
    "                          (elevation['geometry'].x >= min_longitude) &\n",
    "                          (elevation['geometry'].x <= max_longitude)]"
   ]
  },
  {
   "cell_type": "code",
   "execution_count": 8,
   "id": "b23d9ce3-321b-4b89-92e5-be8db34a970e",
   "metadata": {},
   "outputs": [
    {
     "name": "stdout",
     "output_type": "stream",
     "text": [
      "All elevation values are valid\n"
     ]
    }
   ],
   "source": [
    "min_elevation = 181 #lowest point in Minnesota (Lake Superior) in meters\n",
    "max_elevation = 703 #highest point in Minnesota (Eagle Mountain) in meters\n",
    "\n",
    "invalid_elevation = elevation[(elevation['elevation'] > max_elevation) | (elevation['elevation'] < min_elevation)]\n",
    "\n",
    "if invalid_elevation.empty:\n",
    "    print('All elevation values are valid')\n",
    "else:\n",
    "    print('Invalid elevation:')\n",
    "    print(invalid_elevation)\n",
    "    elevation = elevation[(elevation['elevation'] <= max_elevation) & (elevation['elevation'] >= min_elevation)]"
   ]
  },
  {
   "cell_type": "code",
   "execution_count": 9,
   "id": "72dbd423-6c55-42d6-8338-d3a05b80f35d",
   "metadata": {},
   "outputs": [
    {
     "name": "stdout",
     "output_type": "stream",
     "text": [
      "GeoDataFrame successfully pushed to the PostGIS table 'mn_elevation'.\n"
     ]
    }
   ],
   "source": [
    "#connect to the new database to enable PostGIS\n",
    "connection_string = f'postgresql://<user>:<password>@34.133.43.30:5432/lab2'\n",
    "engine = create_engine(connection_string)\n",
    "\n",
    "# Push the GeoDataFrame to PostGIS\n",
    "table_name = \"mn_elevation\"\n",
    "elevation.to_postgis(table_name, engine, if_exists=\"replace\", index=False)\n",
    "\n",
    "print(f\"GeoDataFrame successfully pushed to the PostGIS table '{table_name}'.\")"
   ]
  },
  {
   "cell_type": "code",
   "execution_count": null,
   "id": "f0e558c7-db07-4a2f-aef0-f86e7ea4fc13",
   "metadata": {},
   "outputs": [],
   "source": []
  }
 ],
 "metadata": {
  "kernelspec": {
   "display_name": "Python 3 (ipykernel)",
   "language": "python",
   "name": "python3"
  },
  "language_info": {
   "codemirror_mode": {
    "name": "ipython",
    "version": 3
   },
   "file_extension": ".py",
   "mimetype": "text/x-python",
   "name": "python",
   "nbconvert_exporter": "python",
   "pygments_lexer": "ipython3",
   "version": "3.8.20"
  }
 },
 "nbformat": 4,
 "nbformat_minor": 5
}
