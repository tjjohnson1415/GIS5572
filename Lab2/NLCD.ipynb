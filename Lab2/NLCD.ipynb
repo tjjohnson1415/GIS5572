{
 "cells": [
  {
   "cell_type": "code",
   "execution_count": 1,
   "id": "01bcb9e9-6e6e-4b98-85d1-94a6c17598f9",
   "metadata": {},
   "outputs": [],
   "source": [
    "import rasterio\n",
    "from rasterio.windows import from_bounds\n",
    "from rasterio.enums import Resampling\n",
    "from rasterio.crs import CRS\n",
    "from pyproj import Transformer\n",
    "import numpy as np\n",
    "from scipy.ndimage import generic_filter\n",
    "from scipy.stats import mode\n",
    "import pandas as pd\n",
    "import geopandas as gpd\n",
    "from shapely.geometry import Point\n",
    "from sqlalchemy import create_engine\n",
    "import psycopg2"
   ]
  },
  {
   "cell_type": "code",
   "execution_count": 2,
   "id": "4184eed5-acd8-4015-9b73-2e13e63e2f08",
   "metadata": {},
   "outputs": [],
   "source": [
    "url = r'https://www.mrlc.gov/downloads/sciweb1/shared/mrlc/data-bundles/Annual_NLCD_LndCov_2023_CU_C1V0.tif'"
   ]
  },
  {
   "cell_type": "code",
   "execution_count": 3,
   "id": "d51950ad-a868-405b-95b5-203fedec2b29",
   "metadata": {},
   "outputs": [
    {
     "name": "stdout",
     "output_type": "stream",
     "text": [
      "Bounding box in the target CRS: (-121629.82955944678, 2223662.3251429657, 514102.3021655515, 2962023.2392924265)\n"
     ]
    }
   ],
   "source": [
    "with rasterio.open(url) as src:\n",
    "    sr = src.crs\n",
    "\n",
    "# Define the bounding box in EPSG:4326 (min_x, min_y, max_x, max_y)\n",
    "bounding_box_epsg4326 = (-97.5, 43, -89, 49.5)\n",
    "\n",
    "# Define the target projection string (AEA based on WGS84)\n",
    "#target_crs = (\n",
    "#    \"+proj=aea +lat_1=29.5 +lat_2=45.5 +lat_0=23 +lon_0=-96 \"\n",
    "#    \"+x_0=0 +y_0=0 +datum=WGS84 +units=m +no_defs\"\n",
    "#)\n",
    "target_crs = sr\n",
    "\n",
    "# Initialize the Transformer for conversion\n",
    "transformer = Transformer.from_crs(\"EPSG:4326\", target_crs, always_xy=True)\n",
    "\n",
    "# Transform the bounding box coordinates\n",
    "min_x, min_y = transformer.transform(bounding_box_epsg4326[0], bounding_box_epsg4326[1])\n",
    "max_x, max_y = transformer.transform(bounding_box_epsg4326[2], bounding_box_epsg4326[3])\n",
    "\n",
    "# New bounding box in the target CRS\n",
    "bounding_box_aea = (min_x, min_y, max_x, max_y)\n",
    "print(\"Bounding box in the target CRS:\", bounding_box_aea)"
   ]
  },
  {
   "cell_type": "code",
   "execution_count": 4,
   "id": "b6e29d5b-26c6-494c-beaf-6fdf1fe4409a",
   "metadata": {},
   "outputs": [],
   "source": [
    "# Open the raster from a URL\n",
    "with rasterio.open(url) as src:\n",
    "    # Step 1: Create a window using the bounding box\n",
    "    window = from_bounds(*bounding_box_aea, transform = src.transform)\n",
    "    \n",
    "    # Step 2: Read the clipped raster data\n",
    "    clipped_raster = src.read(1, window = window)\n",
    "    \n",
    "    # Step 3: Update the transform for the clipped raster\n",
    "    clipped_transform = src.window_transform(window)\n",
    "    \n",
    "    # Step 4: Update the profile for the clipped raster\n",
    "    profile = src.profile\n",
    "    profile.update({\n",
    "        \"height\": clipped_raster.shape[0],\n",
    "        \"width\": clipped_raster.shape[1],\n",
    "        \"transform\": clipped_transform\n",
    "    })\n",
    "    \n",
    "    # Step 5: Define the target resolution (1 km = 1000 meters)\n",
    "    target_resolution = 1000  # in meters\n",
    "    scale_factor = target_resolution / src.res[0]  # Assuming square pixels\n",
    "    new_width = int(clipped_raster.shape[1] / scale_factor)\n",
    "    new_height = int(clipped_raster.shape[0] / scale_factor)\n",
    "    \n",
    "    # Step 6: Resample the raster\n",
    "    resampled_raster = src.read(\n",
    "        1,\n",
    "        window = window,\n",
    "        out_shape = (new_height, new_width),\n",
    "        resampling = Resampling.average  # Use average, or mode for categorical data\n",
    "    )\n",
    "    \n",
    "    # Step 7: Update the transform for the resampled raster\n",
    "    resampled_transform = clipped_transform * clipped_transform.scale(\n",
    "        clipped_raster.shape[1] / new_width,\n",
    "        clipped_raster.shape[0] / new_height\n",
    "    )\n",
    "    \n",
    "    # Step 8: Update profile for the resampled raster\n",
    "    profile.update({\n",
    "        \"height\": new_height,\n",
    "        \"width\": new_width,\n",
    "        \"transform\": resampled_transform,\n",
    "        \"dtype\": rasterio.float32  # Set to float for NaN handling\n",
    "    })"
   ]
  },
  {
   "cell_type": "code",
   "execution_count": 5,
   "id": "0ba43eb5-dc56-47eb-8406-f8f8c5c607f3",
   "metadata": {},
   "outputs": [
    {
     "name": "stderr",
     "output_type": "stream",
     "text": [
      "C:\\Users\\tjjoh\\AppData\\Local\\Temp\\ipykernel_10640\\3482037650.py:10: FutureWarning: Unlike other reduction functions (e.g. `skew`, `kurtosis`), the default behavior of `mode` typically preserves the axis it acts along. In SciPy 1.11.0, this behavior will change: the default value of `keepdims` will become False, the `axis` over which the statistic is taken will be eliminated, and the value None will no longer be accepted. Set `keepdims` to True or False to avoid this warning.\n",
      "  common_value = mode(window, nan_policy=\"omit\").mode[0]\n"
     ]
    }
   ],
   "source": [
    "# Define the custom function for the kernel\n",
    "def process_kernel(window):\n",
    "    # The window is a flattened array of kernel values\n",
    "    center_value = window[len(window) // 2]  # Get the center pixel value\n",
    "    unique_values, counts = np.unique(window, return_counts=True)\n",
    "    \n",
    "    # Check if the center pixel is unique\n",
    "    if counts[np.where(unique_values == center_value)[0][0]] == 1:\n",
    "        # If unique, replace with the most common value in the kernel\n",
    "        common_value = mode(window, nan_policy=\"omit\").mode[0]\n",
    "        return common_value\n",
    "    else:\n",
    "        # If not unique, leave it unchanged\n",
    "        return center_value\n",
    "\n",
    "# Define the kernel size (e.g., 3x3 moving window)\n",
    "kernel_size = 3\n",
    "\n",
    "# Apply the filter\n",
    "corrected_raster = generic_filter(\n",
    "    resampled_raster,\n",
    "    function=process_kernel,\n",
    "    size=kernel_size,\n",
    "    mode='constant',\n",
    "    cval=np.nan  # Optional: Edge pixels treated as NaN\n",
    ")"
   ]
  },
  {
   "cell_type": "code",
   "execution_count": 6,
   "id": "ac272a7d-da0d-4e43-b75f-f7cf9eddf149",
   "metadata": {},
   "outputs": [],
   "source": [
    "valid_values = {11, 12, 21, 22, 23, 24, 31, 41, 42, 43, 51, 52, 71, 72, 73, 74, 81, 82, 90, 95}\n",
    "corrected_raster = corrected_raster.astype(float)  # Convert to float for NaN support\n",
    "corrected_raster[~np.isin(corrected_raster, list(valid_values))] = np.nan"
   ]
  },
  {
   "cell_type": "code",
   "execution_count": 7,
   "id": "4cb3162b-81af-4f2c-bc1f-beb901954cb2",
   "metadata": {},
   "outputs": [],
   "source": [
    "# Prepare lists for point coordinates and values\n",
    "points = []\n",
    "values = []\n",
    "\n",
    "# Loop through each cell in the raster\n",
    "rows, cols = corrected_raster.shape\n",
    "for row in range(rows):\n",
    "    for col in range(cols):\n",
    "        value = corrected_raster[row, col]\n",
    "        if not np.isnan(value):  # Skip no-data values\n",
    "            # Calculate the coordinates of the cell's center\n",
    "            x, y = rasterio.transform.xy(profile['transform'], row, col, offset=\"center\")\n",
    "            points.append(Point(x, y))  # Add the point\n",
    "            values.append(value)        # Add the corresponding value\n",
    "\n",
    "# Create a GeoDataFrame\n",
    "landcover = gpd.GeoDataFrame({\"Land Cover Classification\": values, \"geometry\": points}, crs = src.crs)\n",
    "landcover = landcover.to_crs('EPSG:4326')"
   ]
  },
  {
   "cell_type": "code",
   "execution_count": 8,
   "id": "6393db7d-6b35-4485-b398-496d57e6c007",
   "metadata": {},
   "outputs": [
    {
     "name": "stdout",
     "output_type": "stream",
     "text": [
      "GeoDataFrame successfully pushed to the PostGIS table 'mn_landcover'.\n"
     ]
    }
   ],
   "source": [
    "#connect to the new database to enable PostGIS\n",
    "connection_string = f'postgresql://<user>:<password>@34.133.43.30:5432/lab2'\n",
    "engine = create_engine(connection_string)\n",
    "\n",
    "# Push the GeoDataFrame to PostGIS\n",
    "table_name = \"mn_landcover\"\n",
    "landcover.to_postgis(table_name, engine, if_exists=\"replace\", index=False)\n",
    "\n",
    "print(f\"GeoDataFrame successfully pushed to the PostGIS table '{table_name}'.\")"
   ]
  },
  {
   "cell_type": "code",
   "execution_count": null,
   "id": "9603f671-d244-4ff5-af7d-93c1298fda0a",
   "metadata": {},
   "outputs": [],
   "source": []
  }
 ],
 "metadata": {
  "kernelspec": {
   "display_name": "Python 3 (ipykernel)",
   "language": "python",
   "name": "python3"
  },
  "language_info": {
   "codemirror_mode": {
    "name": "ipython",
    "version": 3
   },
   "file_extension": ".py",
   "mimetype": "text/x-python",
   "name": "python",
   "nbconvert_exporter": "python",
   "pygments_lexer": "ipython3",
   "version": "3.8.20"
  }
 },
 "nbformat": 4,
 "nbformat_minor": 5
}
